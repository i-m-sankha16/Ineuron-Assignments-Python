{
  "nbformat": 4,
  "nbformat_minor": 0,
  "metadata": {
    "colab": {
      "name": "iNeuron_assignment_1.ipynb",
      "provenance": [],
      "authorship_tag": "ABX9TyPT9V2pYBrzg+hO4q3wcJjb",
      "include_colab_link": true
    },
    "kernelspec": {
      "name": "python3",
      "display_name": "Python 3"
    },
    "accelerator": "GPU"
  },
  "cells": [
    {
      "cell_type": "markdown",
      "metadata": {
        "id": "view-in-github",
        "colab_type": "text"
      },
      "source": [
        "<a href=\"https://colab.research.google.com/github/i-m-sankha16/Ineuron-Assignments-Python/blob/master/iNeuron_assignment_1.ipynb\" target=\"_parent\"><img src=\"https://colab.research.google.com/assets/colab-badge.svg\" alt=\"Open In Colab\"/></a>"
      ]
    },
    {
      "cell_type": "markdown",
      "metadata": {
        "id": "7HduYzzor05l",
        "colab_type": "text"
      },
      "source": [
        "**Task 1**"
      ]
    },
    {
      "cell_type": "markdown",
      "metadata": {
        "id": "L_DcyLoKT8Us",
        "colab_type": "text"
      },
      "source": [
        "Install Jupyter notebook and run the first program and share the screenshot of the output."
      ]
    },
    {
      "cell_type": "markdown",
      "metadata": {
        "id": "XMdogmBkUHLQ",
        "colab_type": "text"
      },
      "source": [
        "![alt text](https://drive.google.com/open?id=1HHvv-EsER5Ywf2nA6hJoauSOct0ukcQl)"
      ]
    },
    {
      "cell_type": "markdown",
      "metadata": {
        "id": "A4gPft2cr8w2",
        "colab_type": "text"
      },
      "source": [
        "Write a program which will find all such numbers which are divisible by 7 but are not a multiple\n",
        "of 5, between 2000 and 3200 (both included). The numbers obtained should be printed in a\n",
        "comma-separated sequence on a single line."
      ]
    },
    {
      "cell_type": "code",
      "metadata": {
        "id": "xIxSoDY3q1PK",
        "colab_type": "code",
        "colab": {
          "base_uri": "https://localhost:8080/",
          "height": 71
        },
        "outputId": "3fe9e126-1129-448b-d355-1bd9334a8190"
      },
      "source": [
        "print(\"The Numbers which are divisible by 7 but are not a multiple of 5 and ranges between 2000 to 3200 are: \")\n",
        "for i in range(2000,3201):\n",
        "  if(i%7 == 0 and i%5 != 0):\n",
        "    print(i, end=',')"
      ],
      "execution_count": 9,
      "outputs": [
        {
          "output_type": "stream",
          "text": [
            "The Numbers which are divisible by 7 but are not a multiple of 5 and ranges between 2000 to 3200 are: \n",
            "2002,2009,2016,2023,2037,2044,2051,2058,2072,2079,2086,2093,2107,2114,2121,2128,2142,2149,2156,2163,2177,2184,2191,2198,2212,2219,2226,2233,2247,2254,2261,2268,2282,2289,2296,2303,2317,2324,2331,2338,2352,2359,2366,2373,2387,2394,2401,2408,2422,2429,2436,2443,2457,2464,2471,2478,2492,2499,2506,2513,2527,2534,2541,2548,2562,2569,2576,2583,2597,2604,2611,2618,2632,2639,2646,2653,2667,2674,2681,2688,2702,2709,2716,2723,2737,2744,2751,2758,2772,2779,2786,2793,2807,2814,2821,2828,2842,2849,2856,2863,2877,2884,2891,2898,2912,2919,2926,2933,2947,2954,2961,2968,2982,2989,2996,3003,3017,3024,3031,3038,3052,3059,3066,3073,3087,3094,3101,3108,3122,3129,3136,3143,3157,3164,3171,3178,3192,3199,"
          ],
          "name": "stdout"
        }
      ]
    },
    {
      "cell_type": "markdown",
      "metadata": {
        "id": "8dK7bzvrwA8M",
        "colab_type": "text"
      },
      "source": [
        "Write a Python program to accept the user's first and last name and then getting them printed in\n",
        "the the reverse order with a space between first name and last name.\n"
      ]
    },
    {
      "cell_type": "code",
      "metadata": {
        "id": "1_EvLGq4warc",
        "colab_type": "code",
        "colab": {
          "base_uri": "https://localhost:8080/",
          "height": 85
        },
        "outputId": "e5179256-dbea-44bf-e71d-a7048564753c"
      },
      "source": [
        "def reverse(string):\n",
        "  string = string[::-1]\n",
        "  return string\n",
        "f_name=input('enter the first name:')\n",
        "l_name=input('enter the last name:')\n",
        "s=f_name + \" \" + l_name\n",
        "print(\"the original string is:\", end=\"\")\n",
        "print(f_name,\" \",l_name)\n",
        "print(\"the reversed string is:\", end=\"\")\n",
        "print(reverse(s))"
      ],
      "execution_count": 10,
      "outputs": [
        {
          "output_type": "stream",
          "text": [
            "enter the first name:Sankha\n",
            "enter the last name:Banerjee\n",
            "the original string is:Sankha   Banerjee\n",
            "the reversed string is:eejrenaB ahknaS\n"
          ],
          "name": "stdout"
        }
      ]
    },
    {
      "cell_type": "markdown",
      "metadata": {
        "id": "VcouHw761k2A",
        "colab_type": "text"
      },
      "source": [
        "Write a Python program to find the volume of a sphere with diameter 12 cm.\n",
        "Formula: V=4/3 * π * r^3"
      ]
    },
    {
      "cell_type": "code",
      "metadata": {
        "id": "pnH97cpx1pPz",
        "colab_type": "code",
        "colab": {
          "base_uri": "https://localhost:8080/",
          "height": 34
        },
        "outputId": "b14e964c-afbd-4a79-c7dd-87a28d239d52"
      },
      "source": [
        "diameter = 12\n",
        "r=diameter/2\n",
        "pi=3.14\n",
        "V= 4/3 * pi * r * r * r\n",
        "print(\"The volume of a sphere with a diameter 12 cm is:\",V)"
      ],
      "execution_count": 11,
      "outputs": [
        {
          "output_type": "stream",
          "text": [
            "The volume of a sphere with a diameter 12 cm is: 904.3199999999998\n"
          ],
          "name": "stdout"
        }
      ]
    },
    {
      "cell_type": "markdown",
      "metadata": {
        "id": "2GuD5gRd3iX0",
        "colab_type": "text"
      },
      "source": [
        "**Task 2:**"
      ]
    },
    {
      "cell_type": "markdown",
      "metadata": {
        "id": "dXAZ6j4L7mvl",
        "colab_type": "text"
      },
      "source": [
        "Write a program which accepts a sequence of comma-separated numbers from console and\n",
        "generate a list."
      ]
    },
    {
      "cell_type": "code",
      "metadata": {
        "id": "cOF1L9xQ7noO",
        "colab_type": "code",
        "colab": {
          "base_uri": "https://localhost:8080/",
          "height": 51
        },
        "outputId": "204a6e45-200a-4f69-cc8a-3ed494ebe5a8"
      },
      "source": [
        "a=input(\"Enter the comma separted numbers at your own choice:\")\n",
        "list = a.split(\",\")\n",
        "print(\"List: \",list)\n"
      ],
      "execution_count": 12,
      "outputs": [
        {
          "output_type": "stream",
          "text": [
            "Enter the comma separted numbers at your own choice:2,3,5,8,9,10\n",
            "List:  ['2', '3', '5', '8', '9', '10']\n"
          ],
          "name": "stdout"
        }
      ]
    },
    {
      "cell_type": "markdown",
      "metadata": {
        "id": "BcHRPdhY1MQB",
        "colab_type": "text"
      },
      "source": [
        "Create the below pattern using nested for loop in Python."
      ]
    },
    {
      "cell_type": "code",
      "metadata": {
        "id": "2Qxfaw_y1Ou1",
        "colab_type": "code",
        "colab": {
          "base_uri": "https://localhost:8080/",
          "height": 204
        },
        "outputId": "67c0d9cd-abb9-46a5-dba8-6bf952cad47d"
      },
      "source": [
        "rows = int(input(\"Enter max star to be display on single line \"))\n",
        "for i in range(0, rows):\n",
        "    for j in range(0, i + 1):\n",
        "        print(\"*\", end=' ')\n",
        "    print(\"\\r\")\n",
        "\n",
        "for i in range(rows, 0, -1):\n",
        "    for j in range(0, i - 1):\n",
        "        print(\"*\", end=' ')\n",
        "    print(\"\\r\")"
      ],
      "execution_count": 13,
      "outputs": [
        {
          "output_type": "stream",
          "text": [
            "Enter max star to be display on single line 5\n",
            "* \n",
            "* * \n",
            "* * * \n",
            "* * * * \n",
            "* * * * * \n",
            "* * * * \n",
            "* * * \n",
            "* * \n",
            "* \n",
            "\n"
          ],
          "name": "stdout"
        }
      ]
    },
    {
      "cell_type": "markdown",
      "metadata": {
        "id": "R55P2LeBPsI3",
        "colab_type": "text"
      },
      "source": [
        "Write a Python program to reverse a word after accepting the input from the user."
      ]
    },
    {
      "cell_type": "code",
      "metadata": {
        "id": "L_wxQ8jGPvjv",
        "colab_type": "code",
        "colab": {
          "base_uri": "https://localhost:8080/",
          "height": 51
        },
        "outputId": "c05ec855-b1e3-4099-9cc0-370f1032a9ff"
      },
      "source": [
        "def reverse(string):\n",
        "  string=string[::-1]\n",
        "  return string\n",
        "s=input(\"enter the word to get the reverse word :\")\n",
        "print(reverse(s))"
      ],
      "execution_count": 14,
      "outputs": [
        {
          "output_type": "stream",
          "text": [
            "enter the word to get the reverse word :Sankha Banerjee\n",
            "eejrenaB ahknaS\n"
          ],
          "name": "stdout"
        }
      ]
    },
    {
      "cell_type": "markdown",
      "metadata": {
        "id": "qs2MXrASReKD",
        "colab_type": "text"
      },
      "source": [
        "Write a Python Program to print the given string in the format specified in the sample output.\n",
        "WE, THE PEOPLE OF INDIA, having solemnly resolved to constitute India into a\n",
        "SOVEREIGN, SOCIALIST, SECULAR, DEMOCRATIC REPUBLIC and to secure to all\n",
        "its citizens "
      ]
    },
    {
      "cell_type": "code",
      "metadata": {
        "id": "Gv5LHfh0RprH",
        "colab_type": "code",
        "colab": {
          "base_uri": "https://localhost:8080/",
          "height": 85
        },
        "outputId": "a01f7f77-ea34-4c22-fac3-b82f2b605540"
      },
      "source": [
        "print(\"WE, THE PEOPLE OF INDIA,\\n\\thaving solemnly resolved to constitute India into a SOVEREIGN,! \\n\\t\\tSOCIALIST, SECULAR, DEMOCRATIC REPUBLIC \\n\\t\\t and to secure to all its citizens\")"
      ],
      "execution_count": 15,
      "outputs": [
        {
          "output_type": "stream",
          "text": [
            "WE, THE PEOPLE OF INDIA,\n",
            "\thaving solemnly resolved to constitute India into a SOVEREIGN,! \n",
            "\t\tSOCIALIST, SECULAR, DEMOCRATIC REPUBLIC \n",
            "\t\t and to secure to all its citizens\n"
          ],
          "name": "stdout"
        }
      ]
    },
    {
      "cell_type": "code",
      "metadata": {
        "id": "FVnsyW73R1ZI",
        "colab_type": "code",
        "colab": {}
      },
      "source": [
        ""
      ],
      "execution_count": 0,
      "outputs": []
    }
  ]
}